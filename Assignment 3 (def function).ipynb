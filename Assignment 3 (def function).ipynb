{
 "cells": [
  {
   "cell_type": "code",
   "execution_count": 1,
   "id": "a5d9844c",
   "metadata": {},
   "outputs": [
    {
     "name": "stdout",
     "output_type": "stream",
     "text": [
      "Hello\n",
      "Welcome\n"
     ]
    }
   ],
   "source": [
    "def greet():\n",
    "    print(\"Hello\")\n",
    "    print(\"Welcome\")\n",
    "    \n",
    "    \n",
    "greet()"
   ]
  },
  {
   "cell_type": "code",
   "execution_count": 2,
   "id": "428a8cdf",
   "metadata": {},
   "outputs": [
    {
     "name": "stdout",
     "output_type": "stream",
     "text": [
      "Please, type your name here: Dilzoda\n"
     ]
    }
   ],
   "source": [
    "def ask_their_name():\n",
    "    name = input(\"Please, type your name here: \")\n",
    "    if len(name) > 8:\n",
    "        print(\"Your name must not contain more than 8 characters\")\n",
    "\n",
    "              \n",
    "ask_their_name()"
   ]
  },
  {
   "cell_type": "code",
   "execution_count": 3,
   "id": "a852d680",
   "metadata": {},
   "outputs": [
    {
     "name": "stdout",
     "output_type": "stream",
     "text": [
      "This program helps you to do basic calculations\n",
      "What do you want to do? Addition\n",
      "Write the first number: 567\n",
      "Write the second number: 234\n",
      "801\n"
     ]
    }
   ],
   "source": [
    "def the_function_of_this_program():\n",
    "    print(\"This program helps you to do basic calculations\")\n",
    "    type_of_calculation = input(\"What do you want to do? \")\n",
    "    if type_of_calculation.lower() == \"addition\":\n",
    "        first_number = input(\"Write the first number: \")\n",
    "        second_number = input(\"Write the second number: \")\n",
    "        result = int(first_number) + int(second_number)\n",
    "        print(result)\n",
    "    elif type_of_calculation.lower() == \"substraction\":\n",
    "        first_number = input(\"Write the first number: \")\n",
    "        second_number = input(\"Write the second number: \")\n",
    "        result = int(first_number) + int(second_number)\n",
    "        print(result)\n",
    "    else:\n",
    "        print(\"Please, choose one of this: addition, substraction\")\n",
    "        \n",
    "        \n",
    "the_function_of_this_program()"
   ]
  },
  {
   "cell_type": "code",
   "execution_count": 4,
   "id": "ff00fdbf",
   "metadata": {},
   "outputs": [
    {
     "name": "stdout",
     "output_type": "stream",
     "text": [
      "This program helps you to do basic calculations\n",
      "What do you want to do? Substraction\n",
      "Write the first number: 678\n",
      "Write the second number: 234\n",
      "912\n"
     ]
    }
   ],
   "source": [
    "def the_function_of_this_program():\n",
    "    print(\"This program helps you to do basic calculations\")\n",
    "    type_of_calculation = input(\"What do you want to do? \")\n",
    "    if type_of_calculation.lower() == \"addition\":\n",
    "        first_number = input(\"Write the first number: \")\n",
    "        second_number = input(\"Write the second number: \")\n",
    "        result = int(first_number) + int(second_number)\n",
    "        print(result)\n",
    "    elif type_of_calculation.lower() == \"substraction\":\n",
    "        first_number = input(\"Write the first number: \")\n",
    "        second_number = input(\"Write the second number: \")\n",
    "        result = int(first_number) + int(second_number)\n",
    "        print(result)\n",
    "    else:\n",
    "        print(\"Please, choose one of this: addition, substraction\")\n",
    "        \n",
    "        \n",
    "the_function_of_this_program()"
   ]
  },
  {
   "cell_type": "code",
   "execution_count": 5,
   "id": "f4a484e9",
   "metadata": {},
   "outputs": [
    {
     "name": "stdout",
     "output_type": "stream",
     "text": [
      "This program helps you to do basic calculations\n",
      "What do you want to do? I want to add 678 to 345\n",
      "Please, choose one of this: addition, substraction\n"
     ]
    }
   ],
   "source": [
    "def the_function_of_this_program():\n",
    "    print(\"This program helps you to do basic calculations\")\n",
    "    type_of_calculation = input(\"What do you want to do? \")\n",
    "    if type_of_calculation.lower() == \"addition\":\n",
    "        first_number = input(\"Write the first number: \")\n",
    "        second_number = input(\"Write the second number: \")\n",
    "        result = int(first_number) + int(second_number)\n",
    "        print(result)\n",
    "    elif type_of_calculation.lower() == \"substraction\":\n",
    "        first_number = input(\"Write the first number: \")\n",
    "        second_number = input(\"Write the second number: \")\n",
    "        result = int(first_number) + int(second_number)\n",
    "        print(result)\n",
    "    else:\n",
    "        print(\"Please, choose one of this: addition, substraction\")\n",
    "        \n",
    "        \n",
    "the_function_of_this_program()"
   ]
  },
  {
   "cell_type": "code",
   "execution_count": 6,
   "id": "aa5ab42c",
   "metadata": {},
   "outputs": [
    {
     "name": "stdout",
     "output_type": "stream",
     "text": [
      "I want to buy fruits and vegetables\n",
      "I have carrots and apples, so I won't buy them\n"
     ]
    }
   ],
   "source": [
    "def the_shopping_list():\n",
    "    print(\"I want to buy {} and {}\" .format(\"fruits\", \"vegetables\"))\n",
    "    fruits_I_have = \"apples\"\n",
    "    vegetables_I_have = \"carrots\"\n",
    "    print(f\"I have {vegetables_I_have} and {fruits_I_have}, so I won't buy them\")\n",
    "    \n",
    "    \n",
    "the_shopping_list()"
   ]
  },
  {
   "cell_type": "code",
   "execution_count": 7,
   "id": "33793f2d",
   "metadata": {},
   "outputs": [
    {
     "name": "stdout",
     "output_type": "stream",
     "text": [
      "9 * 1 = 9\n",
      "9 * 2 = 18\n",
      "9 * 3 = 27\n",
      "9 * 4 = 36\n",
      "9 * 5  = 45\n",
      "9 * 6 = 54\n",
      "9 * 7 = 63\n",
      "9 * 8 = 72\n",
      "9 * 9 = 81\n"
     ]
    }
   ],
   "source": [
    "def multiplication_table_of_9():\n",
    "    x = 9 * 1\n",
    "    print(f\"9 * 1 = {x}\")\n",
    "    x = 9 * 2\n",
    "    print(f\"9 * 2 = {x}\")\n",
    "    x = 9 * 3\n",
    "    print(f\"9 * 3 = {x}\")\n",
    "    x = 9 * 4\n",
    "    print(f\"9 * 4 = {x}\")\n",
    "    x = 9 * 5\n",
    "    print(f\"9 * 5  = {x}\")\n",
    "    x = 9 * 6\n",
    "    print(f\"9 * 6 = {x}\")\n",
    "    x = 9 * 7\n",
    "    print(f\"9 * 7 = {x}\")\n",
    "    x = 9 * 8\n",
    "    print(f\"9 * 8 = {x}\")\n",
    "    x = 9 * 9\n",
    "    print(f\"9 * 9 = {x}\")\n",
    "\n",
    "    \n",
    "multiplication_table_of_9()"
   ]
  },
  {
   "cell_type": "code",
   "execution_count": 8,
   "id": "c6d43532",
   "metadata": {},
   "outputs": [
    {
     "name": "stdout",
     "output_type": "stream",
     "text": [
      "Name: Dilzoda\n",
      "Age: 20\n",
      "Nationality: Uzbek\n",
      "Date of birth: 2001\n",
      "Course: Python\n"
     ]
    }
   ],
   "source": [
    "def details_of_the_student():\n",
    "    input(\"Name: \")\n",
    "    input(\"Age: \")\n",
    "    input(\"Nationality: \")\n",
    "    input(\"Date of birth: \")\n",
    "    input(\"Course: \")\n",
    "    \n",
    "    \n",
    "details_of_the_student()"
   ]
  },
  {
   "cell_type": "code",
   "execution_count": 9,
   "id": "48062afb",
   "metadata": {},
   "outputs": [
    {
     "name": "stdout",
     "output_type": "stream",
     "text": [
      "a TV\n",
      "a coach\n",
      "two armchairs\n",
      "two chests of drawers\n",
      "two speakers\n"
     ]
    }
   ],
   "source": [
    "def the_furniture_of_living_room():\n",
    "    input()\n",
    "    input()\n",
    "    input()\n",
    "    input()\n",
    "    input()\n",
    "    \n",
    "    \n",
    "the_furniture_of_living_room()"
   ]
  },
  {
   "cell_type": "code",
   "execution_count": 1,
   "id": "29c1daac",
   "metadata": {},
   "outputs": [
    {
     "name": "stdout",
     "output_type": "stream",
     "text": [
      "Name: Ada Smith\n",
      "Age: 20\n",
      "Problem: Headache\n",
      "Doctor: Mrs Jane Green\n",
      "Date: 27th august, 2021\n"
     ]
    }
   ],
   "source": [
    "def the_details_of_the_patient():\n",
    "    input(\"Name: \")\n",
    "    input(\"Age: \")\n",
    "    input(\"Problem: \")\n",
    "    input(\"Doctor: \")\n",
    "    input(\"Date: \")\n",
    "\n",
    "    \n",
    "the_details_of_the_patient()"
   ]
  },
  {
   "cell_type": "code",
   "execution_count": null,
   "id": "a3a8399e",
   "metadata": {},
   "outputs": [],
   "source": []
  }
 ],
 "metadata": {
  "kernelspec": {
   "display_name": "Python 3",
   "language": "python",
   "name": "python3"
  },
  "language_info": {
   "codemirror_mode": {
    "name": "ipython",
    "version": 3
   },
   "file_extension": ".py",
   "mimetype": "text/x-python",
   "name": "python",
   "nbconvert_exporter": "python",
   "pygments_lexer": "ipython3",
   "version": "3.8.8"
  }
 },
 "nbformat": 4,
 "nbformat_minor": 5
}
